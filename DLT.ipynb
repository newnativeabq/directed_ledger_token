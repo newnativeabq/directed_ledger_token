{
 "cells": [
  {
   "cell_type": "markdown",
   "id": "gross-behavior",
   "metadata": {},
   "source": [
    "# Directed Ledger Token (DLT) - Alpha\n",
    "\n",
    "An application of desterministic finite blockchains to create a series of tokens that represent a multiparty, user-controlled, blockchain state."
   ]
  },
  {
   "cell_type": "markdown",
   "id": "fluid-workplace",
   "metadata": {},
   "source": [
    "## 1. Define transaction order\n",
    "The token contains the layout of the unsigned blockchain.  A smart contract will use it as a validator for incoming information. "
   ]
  },
  {
   "cell_type": "markdown",
   "id": "standard-coordination",
   "metadata": {},
   "source": [
    "### Modeled as .proto\n",
    "Protocol buffer serialization offers a nice validation scheme and multilanguage support of off-chain deserialization and on-chain compression.\n",
    "\n",
    "```proto\n",
    "// The author service definition.\n",
    "\n",
    "service Author {\n",
    "  // Mints new block\n",
    "  rpc mintBlock (Ledger) returns (Ledger) {}\n",
    "}\n",
    "\n",
    "// The Ledger\n",
    "message DirectedLedger {\n",
    "  required int32 steps = 1;\n",
    "  \n",
    "  required string pubkey = 2;\n",
    "\n",
    "  required string default = 3;\n",
    "\n",
    "  message Block {\n",
    "    required string value = 1;\n",
    "    optional string signature = 2;\n",
    "  }\n",
    "\n",
    "  repeated Block blocks = 4;\n",
    "}\n",
    "```\n",
    "\n",
    "Note, in this schema the values are exposed.  Anyone that can view the token on the blockchain will be able to see the values and signatures unencrypted.  What's stored on chain (in the token) is the protocol buffer, not the raw data. Knowledge of the .proto file may be required for user/agent introspection. "
   ]
  },
  {
   "cell_type": "code",
   "execution_count": 1,
   "id": "advisory-supervision",
   "metadata": {},
   "outputs": [],
   "source": [
    "# Specify a ledger flow\n",
    "steps = [\n",
    "    'validate',\n",
    "    'addHelloWorld',\n",
    "    'validate'\n",
    "]"
   ]
  },
  {
   "cell_type": "markdown",
   "id": "tracked-label",
   "metadata": {},
   "source": [
    "Each step could have a validator attached to it for constructing the controller contract."
   ]
  },
  {
   "cell_type": "markdown",
   "id": "successful-transaction",
   "metadata": {},
   "source": [
    "### The owner sets up their wallet and passes it to their local client"
   ]
  },
  {
   "cell_type": "code",
   "execution_count": 2,
   "id": "historic-secretariat",
   "metadata": {},
   "outputs": [
    {
     "data": {
      "text/plain": [
       "{'steps': 3,\n",
       " 'pubkey': '-----BEGIN PUBLIC KEY-----\\nMIICIjANBgkqhkiG9w0BAQEFAAOCAg8AMIICCgKCAgEAw8ZKnYrsKDvplkQA+eBL\\nsNx5eJdHg43EKMz+Qkwq5El0yQlg6L4qjn8he1SpIimXdUEse0eJ9cUm7qIv4luQ\\nkV793+/J0YWlnrPgJTVzF4TiwCA1Fci2BpiCWcQ72jxiHpzshKvBrWl+VOiD4sJm\\nlqHRw2H4tqC1LOO/v+Mzeyx8oiS2SsJ/6ArZdhn065QWYCFS5YlKbwc4sTRbhVhP\\nxqp2x9lkSrUeLAwnWSMysIY5FLExzAE1tuqKuX4S2urkIohYx2OIfeF/gQX/Z9Hz\\nyi0j8d1Q/IIxI+oBrSZBViUcC8FiqskBaY6z5c+5P+bX8Zyw7Yv0gdnbdTAW+pw+\\naLKGvi7UMTfx35xqvv51ZxlVBEi/Kw6M8BPba8pjcd/NHpg2sbQnAVcTCxhcXH/Q\\n/cbRKIaRbHs9Avkxlbq/9vpXSUDg+3Vu2+9I0urmT8VQtNvBveuc/Rrp7NtssgSE\\nZeM5CHa/KOfPOzBCW0Wrtib/205tbbdpvUglyJR21/0hWFCGMz5Y64L+/E4wwlmW\\nhm1qGWC1HYGzTS217LvEVC2yvUErwwp2ePL4UZKG/hOSj5055OsDGWCL+OOaL7R2\\nHs1MEzgfNxtLo6MC/8TE127m5yec1FEtiqzI3bw6evYBSaSsTJTaswEndKifFcGm\\nCkWWmlMG4tXKuGzLlbHyCLMCAwEAAQ==\\n-----END PUBLIC KEY-----\\n',\n",
       " 'blocks': [{'value': None, 'signature': None},\n",
       "  {'value': None, 'signature': None},\n",
       "  {'value': None, 'signature': None}]}"
      ]
     },
     "execution_count": 2,
     "metadata": {},
     "output_type": "execute_result"
    }
   ],
   "source": [
    "# Load off chain Client\n",
    "from src.client import Client, Wallet\n",
    "\n",
    "client = Client()\n",
    "\n",
    "# Create a wallet\n",
    "w = Wallet()\n",
    "\n",
    "# Generate an empty ledger\n",
    "ledger = client.generate_ledger(len(steps), wallet=w)\n",
    "ledger"
   ]
  },
  {
   "cell_type": "code",
   "execution_count": 3,
   "id": "frank-forth",
   "metadata": {},
   "outputs": [
    {
     "name": "stdout",
     "output_type": "stream",
     "text": [
      "sigining slot 0\n"
     ]
    },
    {
     "data": {
      "text/plain": [
       "{'steps': 3,\n",
       " 'pubkey': '-----BEGIN PUBLIC KEY-----\\nMIICIjANBgkqhkiG9w0BAQEFAAOCAg8AMIICCgKCAgEAw8ZKnYrsKDvplkQA+eBL\\nsNx5eJdHg43EKMz+Qkwq5El0yQlg6L4qjn8he1SpIimXdUEse0eJ9cUm7qIv4luQ\\nkV793+/J0YWlnrPgJTVzF4TiwCA1Fci2BpiCWcQ72jxiHpzshKvBrWl+VOiD4sJm\\nlqHRw2H4tqC1LOO/v+Mzeyx8oiS2SsJ/6ArZdhn065QWYCFS5YlKbwc4sTRbhVhP\\nxqp2x9lkSrUeLAwnWSMysIY5FLExzAE1tuqKuX4S2urkIohYx2OIfeF/gQX/Z9Hz\\nyi0j8d1Q/IIxI+oBrSZBViUcC8FiqskBaY6z5c+5P+bX8Zyw7Yv0gdnbdTAW+pw+\\naLKGvi7UMTfx35xqvv51ZxlVBEi/Kw6M8BPba8pjcd/NHpg2sbQnAVcTCxhcXH/Q\\n/cbRKIaRbHs9Avkxlbq/9vpXSUDg+3Vu2+9I0urmT8VQtNvBveuc/Rrp7NtssgSE\\nZeM5CHa/KOfPOzBCW0Wrtib/205tbbdpvUglyJR21/0hWFCGMz5Y64L+/E4wwlmW\\nhm1qGWC1HYGzTS217LvEVC2yvUErwwp2ePL4UZKG/hOSj5055OsDGWCL+OOaL7R2\\nHs1MEzgfNxtLo6MC/8TE127m5yec1FEtiqzI3bw6evYBSaSsTJTaswEndKifFcGm\\nCkWWmlMG4tXKuGzLlbHyCLMCAwEAAQ==\\n-----END PUBLIC KEY-----\\n',\n",
       " 'blocks': [{'value': 'valid!!',\n",
       "   'signature': 'GgOQVHVFXkN-HiUBv09wTCApFEJoDpDdLDi6Oq2BgOr3h0YQB-zLhTJTlZUxM5VMRslFVOj6Rzp-RguszjDa0Sq8-sHoT4wumM7sTUfVJA5maY40W0aJbOWQG0QLmjGv4eGSFSz3e-VVKLe4XA6SxGVoYNdZ4wfLaiEWsQ3H3v-EPuL_DhJwXkM-DP_OKhDt66DYtZco1JVVvh5bXEGLnVfgpgAo3mlzinXNXTFfapezl2ZPoYL9Vi_1I-okJQCgF56xwpOHcyLYpTL7Q32ePj-_P_SANLVIwR1cJaskidSRjxRON2mxXfKv12w0MhWN-E1tpfPRzJPYAxn1VDjKtETMeQgOCX245puPn_G8w-O_-emiZPZpr6I3LSAQCebY6f7dPdUg1Ubph5nchmMnqW9W-Ik8u7L_YNJ6VC-ZEry9BLWrgmzLqdinE3mGFEf-3fIVrzvA9uPsvkYpVRNGS_ueakAWpaARi0RHQ1mhxp8-dK34usJvea6U_bpNnBg0alGP0S1mF8eD2r6Zte3XH_W9p_o8nWWhxmgDlXKrRUDQKiR8iU2yPr-a_7PIy8VDaVNbwnZWUNpuicL_HDfjU-UXU5ytYRuZXM4WdJvCysG_f82moWyBY4QWH_FHAlGhc8NDrBC8yBeXrhEaLBkpwSgsGB7hLHPgg1ntLjDZyIU='},\n",
       "  {'value': None, 'signature': None},\n",
       "  {'value': None, 'signature': None}]}"
      ]
     },
     "execution_count": 3,
     "metadata": {},
     "output_type": "execute_result"
    }
   ],
   "source": [
    "# Sign the ledger\n",
    "ledger = client.validate_ledger(ledger=ledger, wallet=w, message='valid!!')\n",
    "ledger"
   ]
  },
  {
   "cell_type": "markdown",
   "id": "secondary-potter",
   "metadata": {},
   "source": [
    "### Now another entity with their own wallet can add the hello world message"
   ]
  },
  {
   "cell_type": "code",
   "execution_count": 4,
   "id": "norwegian-amazon",
   "metadata": {},
   "outputs": [],
   "source": [
    "w2 = Wallet()"
   ]
  },
  {
   "cell_type": "code",
   "execution_count": 5,
   "id": "bulgarian-arnold",
   "metadata": {},
   "outputs": [
    {
     "name": "stdout",
     "output_type": "stream",
     "text": [
      "sigining slot 1\n"
     ]
    },
    {
     "data": {
      "text/plain": [
       "{'steps': 3,\n",
       " 'pubkey': '-----BEGIN PUBLIC KEY-----\\nMIICIjANBgkqhkiG9w0BAQEFAAOCAg8AMIICCgKCAgEAw8ZKnYrsKDvplkQA+eBL\\nsNx5eJdHg43EKMz+Qkwq5El0yQlg6L4qjn8he1SpIimXdUEse0eJ9cUm7qIv4luQ\\nkV793+/J0YWlnrPgJTVzF4TiwCA1Fci2BpiCWcQ72jxiHpzshKvBrWl+VOiD4sJm\\nlqHRw2H4tqC1LOO/v+Mzeyx8oiS2SsJ/6ArZdhn065QWYCFS5YlKbwc4sTRbhVhP\\nxqp2x9lkSrUeLAwnWSMysIY5FLExzAE1tuqKuX4S2urkIohYx2OIfeF/gQX/Z9Hz\\nyi0j8d1Q/IIxI+oBrSZBViUcC8FiqskBaY6z5c+5P+bX8Zyw7Yv0gdnbdTAW+pw+\\naLKGvi7UMTfx35xqvv51ZxlVBEi/Kw6M8BPba8pjcd/NHpg2sbQnAVcTCxhcXH/Q\\n/cbRKIaRbHs9Avkxlbq/9vpXSUDg+3Vu2+9I0urmT8VQtNvBveuc/Rrp7NtssgSE\\nZeM5CHa/KOfPOzBCW0Wrtib/205tbbdpvUglyJR21/0hWFCGMz5Y64L+/E4wwlmW\\nhm1qGWC1HYGzTS217LvEVC2yvUErwwp2ePL4UZKG/hOSj5055OsDGWCL+OOaL7R2\\nHs1MEzgfNxtLo6MC/8TE127m5yec1FEtiqzI3bw6evYBSaSsTJTaswEndKifFcGm\\nCkWWmlMG4tXKuGzLlbHyCLMCAwEAAQ==\\n-----END PUBLIC KEY-----\\n',\n",
       " 'blocks': [{'value': 'valid!!',\n",
       "   'signature': 'GgOQVHVFXkN-HiUBv09wTCApFEJoDpDdLDi6Oq2BgOr3h0YQB-zLhTJTlZUxM5VMRslFVOj6Rzp-RguszjDa0Sq8-sHoT4wumM7sTUfVJA5maY40W0aJbOWQG0QLmjGv4eGSFSz3e-VVKLe4XA6SxGVoYNdZ4wfLaiEWsQ3H3v-EPuL_DhJwXkM-DP_OKhDt66DYtZco1JVVvh5bXEGLnVfgpgAo3mlzinXNXTFfapezl2ZPoYL9Vi_1I-okJQCgF56xwpOHcyLYpTL7Q32ePj-_P_SANLVIwR1cJaskidSRjxRON2mxXfKv12w0MhWN-E1tpfPRzJPYAxn1VDjKtETMeQgOCX245puPn_G8w-O_-emiZPZpr6I3LSAQCebY6f7dPdUg1Ubph5nchmMnqW9W-Ik8u7L_YNJ6VC-ZEry9BLWrgmzLqdinE3mGFEf-3fIVrzvA9uPsvkYpVRNGS_ueakAWpaARi0RHQ1mhxp8-dK34usJvea6U_bpNnBg0alGP0S1mF8eD2r6Zte3XH_W9p_o8nWWhxmgDlXKrRUDQKiR8iU2yPr-a_7PIy8VDaVNbwnZWUNpuicL_HDfjU-UXU5ytYRuZXM4WdJvCysG_f82moWyBY4QWH_FHAlGhc8NDrBC8yBeXrhEaLBkpwSgsGB7hLHPgg1ntLjDZyIU='},\n",
       "  {'value': 'Hello Wallet 1!',\n",
       "   'signature': 'Ctjxvz2Z19w4x5t56M0k4gdyxJpI-j00WbNBqvlyM12VDA8TU2gKPFzDNjuGrSKlEMTo8oEO9QBnynGYl6frY65Yx3jIpEWyu9zp6xl8_VNMSjfw2lfxX84n8iaaqaYaEzlsPjk6pWGKh26hTnaEPRdGn6NKwAEpzTQZjB0HHkrm1-y_QzECTL49w3wN_T6QH2aRdn1TUJsKxu8UWKiZl_kY8d9RG-truH0i3P71aqYkWQh7Wj9_rvXIt-AG8qDGjHc_gnZxJCD8Vbc39OjfOeFa4rQHFDwialvv4cAZ_z3ZyzUb54FalF4bvTR1iz9Qb0J_RSIiWUvm9-GZpWJihiky6vyIpTGV4GUYcbHhnKysBus6-VFFnc5_R_d_1BEHEc_KXIxmeXwIEffFFKLUjKgISooNoYnExUf8Xg0N7tUnUyBzFGepImzbNz0tbA7ddn1PfdwgTmGhHXYswaG3SrZACUnE_6S8WkeBqpuM-E4ykbbbmwW5-frkaV10NmxGjNB_2zyiLbPS639P4WIWR0B-UVQyD0lF9AVPef4W0J74dHmeZU7UD9TUpdGDSOP5oWEauyNRt9H0O1QcEFuSPVRFKYxuaJ0iuKKUYktQ52kOjCKLaA6-Z3t-o7jb8jzLXEwqgf2q4I6dAj-365yTpi1_ae0pjwvo9unpFZg6J8w='},\n",
       "  {'value': None, 'signature': None}]}"
      ]
     },
     "execution_count": 5,
     "metadata": {},
     "output_type": "execute_result"
    }
   ],
   "source": [
    "ledger = client.validate_ledger(ledger=ledger, wallet=w2, message='Hello Wallet 1!')\n",
    "ledger"
   ]
  },
  {
   "cell_type": "markdown",
   "id": "recreational-pakistan",
   "metadata": {},
   "source": [
    "The 'value' field can contain a lot of information to help validate the authorship, including the public key of the author, general agency information, and more."
   ]
  },
  {
   "cell_type": "markdown",
   "id": "other-winner",
   "metadata": {},
   "source": [
    "### Final validation and first guard that the ledger cannot continue past a certain amount\n",
    "The 'steps' is client-side assurance against attempting to send a bad transaction.  If an attacker tried to extend the token ledger and re-mint, the smart contract collatoral wallet should be empty and the contract won't execute."
   ]
  },
  {
   "cell_type": "code",
   "execution_count": 6,
   "id": "executed-elements",
   "metadata": {},
   "outputs": [
    {
     "name": "stdout",
     "output_type": "stream",
     "text": [
      "sigining slot 2\n"
     ]
    },
    {
     "data": {
      "text/plain": [
       "{'steps': 3,\n",
       " 'pubkey': '-----BEGIN PUBLIC KEY-----\\nMIICIjANBgkqhkiG9w0BAQEFAAOCAg8AMIICCgKCAgEAw8ZKnYrsKDvplkQA+eBL\\nsNx5eJdHg43EKMz+Qkwq5El0yQlg6L4qjn8he1SpIimXdUEse0eJ9cUm7qIv4luQ\\nkV793+/J0YWlnrPgJTVzF4TiwCA1Fci2BpiCWcQ72jxiHpzshKvBrWl+VOiD4sJm\\nlqHRw2H4tqC1LOO/v+Mzeyx8oiS2SsJ/6ArZdhn065QWYCFS5YlKbwc4sTRbhVhP\\nxqp2x9lkSrUeLAwnWSMysIY5FLExzAE1tuqKuX4S2urkIohYx2OIfeF/gQX/Z9Hz\\nyi0j8d1Q/IIxI+oBrSZBViUcC8FiqskBaY6z5c+5P+bX8Zyw7Yv0gdnbdTAW+pw+\\naLKGvi7UMTfx35xqvv51ZxlVBEi/Kw6M8BPba8pjcd/NHpg2sbQnAVcTCxhcXH/Q\\n/cbRKIaRbHs9Avkxlbq/9vpXSUDg+3Vu2+9I0urmT8VQtNvBveuc/Rrp7NtssgSE\\nZeM5CHa/KOfPOzBCW0Wrtib/205tbbdpvUglyJR21/0hWFCGMz5Y64L+/E4wwlmW\\nhm1qGWC1HYGzTS217LvEVC2yvUErwwp2ePL4UZKG/hOSj5055OsDGWCL+OOaL7R2\\nHs1MEzgfNxtLo6MC/8TE127m5yec1FEtiqzI3bw6evYBSaSsTJTaswEndKifFcGm\\nCkWWmlMG4tXKuGzLlbHyCLMCAwEAAQ==\\n-----END PUBLIC KEY-----\\n',\n",
       " 'blocks': [{'value': 'valid!!',\n",
       "   'signature': 'GgOQVHVFXkN-HiUBv09wTCApFEJoDpDdLDi6Oq2BgOr3h0YQB-zLhTJTlZUxM5VMRslFVOj6Rzp-RguszjDa0Sq8-sHoT4wumM7sTUfVJA5maY40W0aJbOWQG0QLmjGv4eGSFSz3e-VVKLe4XA6SxGVoYNdZ4wfLaiEWsQ3H3v-EPuL_DhJwXkM-DP_OKhDt66DYtZco1JVVvh5bXEGLnVfgpgAo3mlzinXNXTFfapezl2ZPoYL9Vi_1I-okJQCgF56xwpOHcyLYpTL7Q32ePj-_P_SANLVIwR1cJaskidSRjxRON2mxXfKv12w0MhWN-E1tpfPRzJPYAxn1VDjKtETMeQgOCX245puPn_G8w-O_-emiZPZpr6I3LSAQCebY6f7dPdUg1Ubph5nchmMnqW9W-Ik8u7L_YNJ6VC-ZEry9BLWrgmzLqdinE3mGFEf-3fIVrzvA9uPsvkYpVRNGS_ueakAWpaARi0RHQ1mhxp8-dK34usJvea6U_bpNnBg0alGP0S1mF8eD2r6Zte3XH_W9p_o8nWWhxmgDlXKrRUDQKiR8iU2yPr-a_7PIy8VDaVNbwnZWUNpuicL_HDfjU-UXU5ytYRuZXM4WdJvCysG_f82moWyBY4QWH_FHAlGhc8NDrBC8yBeXrhEaLBkpwSgsGB7hLHPgg1ntLjDZyIU='},\n",
       "  {'value': 'Hello Wallet 1!',\n",
       "   'signature': 'Ctjxvz2Z19w4x5t56M0k4gdyxJpI-j00WbNBqvlyM12VDA8TU2gKPFzDNjuGrSKlEMTo8oEO9QBnynGYl6frY65Yx3jIpEWyu9zp6xl8_VNMSjfw2lfxX84n8iaaqaYaEzlsPjk6pWGKh26hTnaEPRdGn6NKwAEpzTQZjB0HHkrm1-y_QzECTL49w3wN_T6QH2aRdn1TUJsKxu8UWKiZl_kY8d9RG-truH0i3P71aqYkWQh7Wj9_rvXIt-AG8qDGjHc_gnZxJCD8Vbc39OjfOeFa4rQHFDwialvv4cAZ_z3ZyzUb54FalF4bvTR1iz9Qb0J_RSIiWUvm9-GZpWJihiky6vyIpTGV4GUYcbHhnKysBus6-VFFnc5_R_d_1BEHEc_KXIxmeXwIEffFFKLUjKgISooNoYnExUf8Xg0N7tUnUyBzFGepImzbNz0tbA7ddn1PfdwgTmGhHXYswaG3SrZACUnE_6S8WkeBqpuM-E4ykbbbmwW5-frkaV10NmxGjNB_2zyiLbPS639P4WIWR0B-UVQyD0lF9AVPef4W0J74dHmeZU7UD9TUpdGDSOP5oWEauyNRt9H0O1QcEFuSPVRFKYxuaJ0iuKKUYktQ52kOjCKLaA6-Z3t-o7jb8jzLXEwqgf2q4I6dAj-365yTpi1_ae0pjwvo9unpFZg6J8w='},\n",
       "  {'value': 'Final Validate. Woot Woot.',\n",
       "   'signature': 'kIhIrQt4Y3wCEvApOY9Gk1w2M5dMeLUD8X5u53lba9lywMu3ZqrPOSo_tI5fNxqMXIP6mgBerfT9YS6lZI9x6sf6Q8-1MJEu7ppDlwugvhD14ddJfHyog4TSkWRxlrX6GzFboV_QxvBDzOR41Q_pj8BS5pSYhrxOfPdYl2ZmBKeU_tYQWAk5Fn1VEd4WyMXiw9uQsuVV6_aR_n2-_d_rb5n76bTA2h5xZdCiL2VdXvVX5f9hTVoOnzUVxj0scWSYH1BrIde6jzhxR7la1GsKAg7F1ROOFT1KhZsi009lIkx2V03KWNH_g3z3lFezbRtG4stCXxLs_Eo3v_N2oLna1FzYdJPC53UuqCYLbQ6t0cyzeJ9wqgOb1ibF0DqwnevexKyej2Z-PDof4Gzk8WXDnt-W79IFvuuUqBMi3zcag0uyVQGrjcOasZxIJQWjI6eHE0ADyKppvf6ksgixWh130MQJd5FqsEz6WY1Sip98YLyClKOUpXKko8PVElzpv3YC7bxFdtK275t9xnqiNXdNc5ZizSzWWgm4-Fzu500xk3I4BQNOcMFlwtgi0mT54-wluy94Oq-3qQy7oT71HZAGaxKeM4ZwFt4k-K8wxuqDes8pzFfCvFqe83Xl2u7-aRjapowRu3z0dfhrg76hQanrsvK1GZtv6YkHlkzAZYVUTB0='}]}"
      ]
     },
     "execution_count": 6,
     "metadata": {},
     "output_type": "execute_result"
    }
   ],
   "source": [
    "ledger = client.validate_ledger(ledger=ledger, wallet=w, message='Final Validate. Woot Woot.')\n",
    "ledger"
   ]
  },
  {
   "cell_type": "code",
   "execution_count": 7,
   "id": "sought-screening",
   "metadata": {},
   "outputs": [
    {
     "ename": "AssertionError",
     "evalue": "No validation slot remaining",
     "output_type": "error",
     "traceback": [
      "\u001b[0;31m---------------------------------------------------------------------------\u001b[0m",
      "\u001b[0;31mAssertionError\u001b[0m                            Traceback (most recent call last)",
      "\u001b[0;32m<ipython-input-7-545473f4cad7>\u001b[0m in \u001b[0;36m<module>\u001b[0;34m\u001b[0m\n\u001b[1;32m      1\u001b[0m \u001b[0;31m# trying to sign again\u001b[0m\u001b[0;34m\u001b[0m\u001b[0;34m\u001b[0m\u001b[0;34m\u001b[0m\u001b[0m\n\u001b[0;32m----> 2\u001b[0;31m \u001b[0mclient\u001b[0m\u001b[0;34m.\u001b[0m\u001b[0mvalidate_ledger\u001b[0m\u001b[0;34m(\u001b[0m\u001b[0mledger\u001b[0m\u001b[0;34m=\u001b[0m\u001b[0mledger\u001b[0m\u001b[0;34m,\u001b[0m \u001b[0mwallet\u001b[0m\u001b[0;34m=\u001b[0m\u001b[0mw\u001b[0m\u001b[0;34m,\u001b[0m \u001b[0mmessage\u001b[0m\u001b[0;34m=\u001b[0m\u001b[0;34m'An extension attack!'\u001b[0m\u001b[0;34m)\u001b[0m\u001b[0;34m\u001b[0m\u001b[0;34m\u001b[0m\u001b[0m\n\u001b[0m",
      "\u001b[0;32m/mnt/c/Users/vince/Bin/dlt/src/client.py\u001b[0m in \u001b[0;36mvalidate_ledger\u001b[0;34m(self, ledger, wallet, message)\u001b[0m\n\u001b[1;32m     37\u001b[0m \u001b[0;34m\u001b[0m\u001b[0m\n\u001b[1;32m     38\u001b[0m         \u001b[0mvpos\u001b[0m \u001b[0;34m=\u001b[0m \u001b[0m_find_null_value\u001b[0m\u001b[0;34m(\u001b[0m\u001b[0mledger\u001b[0m\u001b[0;34m)\u001b[0m\u001b[0;34m\u001b[0m\u001b[0;34m\u001b[0m\u001b[0m\n\u001b[0;32m---> 39\u001b[0;31m         \u001b[0;32massert\u001b[0m \u001b[0mvpos\u001b[0m \u001b[0;32mis\u001b[0m \u001b[0;32mnot\u001b[0m \u001b[0;32mNone\u001b[0m\u001b[0;34m,\u001b[0m \u001b[0;34m'No validation slot remaining'\u001b[0m\u001b[0;34m\u001b[0m\u001b[0;34m\u001b[0m\u001b[0m\n\u001b[0m\u001b[1;32m     40\u001b[0m         \u001b[0mprint\u001b[0m\u001b[0;34m(\u001b[0m\u001b[0;34m'sigining slot'\u001b[0m\u001b[0;34m,\u001b[0m \u001b[0mvpos\u001b[0m\u001b[0;34m)\u001b[0m\u001b[0;34m\u001b[0m\u001b[0;34m\u001b[0m\u001b[0m\n\u001b[1;32m     41\u001b[0m         \u001b[0;32mreturn\u001b[0m \u001b[0m_sign_ledger\u001b[0m\u001b[0;34m(\u001b[0m\u001b[0mledger\u001b[0m\u001b[0;34m,\u001b[0m \u001b[0mvpos\u001b[0m\u001b[0;34m,\u001b[0m \u001b[0mwallet\u001b[0m\u001b[0;34m)\u001b[0m\u001b[0;34m\u001b[0m\u001b[0;34m\u001b[0m\u001b[0m\n",
      "\u001b[0;31mAssertionError\u001b[0m: No validation slot remaining"
     ]
    }
   ],
   "source": [
    "# trying to sign again\n",
    "client.validate_ledger(ledger=ledger, wallet=w, message='An extension attack!')"
   ]
  },
  {
   "cell_type": "markdown",
   "id": "meaningful-italy",
   "metadata": {},
   "source": [
    "## Further Research\n",
    "\n",
    "1. More validation data and Timestamps\n",
    "2. Verification built into the client\n",
    "3. Adding a 'safe' of data that can be exposed on demand for KYC\n",
    "4. Serializing/deserializing ledger as protocol buffer client side and in contract.  Haskell protobuf?\n",
    "5. Scenario analysis and verification of finiteness, attacks"
   ]
  },
  {
   "cell_type": "markdown",
   "id": "living-distribution",
   "metadata": {},
   "source": [
    "### Special Thanks\n",
    "@Ancient Kraken"
   ]
  },
  {
   "cell_type": "code",
   "execution_count": null,
   "id": "tested-orientation",
   "metadata": {},
   "outputs": [],
   "source": []
  }
 ],
 "metadata": {
  "kernelspec": {
   "display_name": "Python 3",
   "language": "python",
   "name": "python3"
  },
  "language_info": {
   "codemirror_mode": {
    "name": "ipython",
    "version": 3
   },
   "file_extension": ".py",
   "mimetype": "text/x-python",
   "name": "python",
   "nbconvert_exporter": "python",
   "pygments_lexer": "ipython3",
   "version": "3.8.5"
  }
 },
 "nbformat": 4,
 "nbformat_minor": 5
}
